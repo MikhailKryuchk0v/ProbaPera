{
  "nbformat": 4,
  "nbformat_minor": 0,
  "metadata": {
    "colab": {
      "provenance": [],
      "authorship_tag": "ABX9TyPbCPBtbfoLX+86uPw3jORe",
      "include_colab_link": true
    },
    "kernelspec": {
      "name": "python3",
      "display_name": "Python 3"
    },
    "language_info": {
      "name": "python"
    }
  },
  "cells": [
    {
      "cell_type": "markdown",
      "metadata": {
        "id": "view-in-github",
        "colab_type": "text"
      },
      "source": [
        "<a href=\"https://colab.research.google.com/github/MikhailKryuchk0v/ProbaPera/blob/main/YM222_1_grup_KRM_1%20var_1%20praktika.ipynb\" target=\"_parent\"><img src=\"https://colab.research.google.com/assets/colab-badge.svg\" alt=\"Open In Colab\"/></a>"
      ]
    },
    {
      "cell_type": "code",
      "execution_count": null,
      "metadata": {
        "id": "5L7uboZahmuN"
      },
      "outputs": [],
      "source": []
    },
    {
      "cell_type": "code",
      "source": [
        "# Импортируем зависимости\n",
        "import numpy\n",
        "import tensorflow as tf\n",
        "from tensorflow import keras\n",
        "import numpy as np\n",
        "from sklearn.metrics import mean_absolute_percentage_error\n",
        "\n",
        "\n",
        "# Функция генерации наборов входных и выходных данных в заданном диапазоне\n",
        "def generate(start, stop, step):\n",
        "    a_ = numpy.arange(start, stop, step)\n",
        "    b_ = numpy.arange(start, stop, step)\n",
        "    data = numpy.asarray([[a0, b0] for a0 in a_ for b0 in b_])\n",
        "    target = numpy.asarray([a0 + b0 for a0 in a_ for b0 in b_])\n",
        "    return data, target\n",
        "\n",
        "\n",
        "# Генерируем тренировочные и тестовые наборы данных\n",
        "train_data, train_targets = generate(1, 100, 1)\n",
        "test_data, test_targets = generate(101, 200, 4)\n",
        "\n",
        "# Описываем модель НС с двумя входными нейронами (произвольные действительные числа)\n",
        "# и одним выходным (сумма действительных чисел)\n",
        "model = keras.Sequential([\n",
        "    keras.layers.Flatten(input_shape=(2,)),\n",
        "    keras.layers.Dense(20, activation=tf.nn.relu),\n",
        "    keras.layers.Dense(20, activation=tf.nn.relu),\n",
        "    keras.layers.Dense(1)\n",
        "])\n",
        "\n",
        "# Создаем модель НС с использованием оптимизации по Adam и метрикой mean absolute percentage error(MAPE)\n",
        "model.compile(optimizer='adam',\n",
        "              loss='mape',\n",
        "              metrics=['mape'])\n",
        "\n",
        "# Производим обучение НС (кол-во epochs=5)\n",
        "model.fit(train_data, train_targets, epochs=5, batch_size=1)\n",
        "\n",
        "# Тестируем обученную НС\n",
        "_, test_mape = model.evaluate(test_data, test_targets)\n",
        "print('Test mean absolute percentage error:', test_mape)\n",
        "\n",
        "# Интерактивный режим: считываем из стандартного ввода 2 числа, и предсказываем сумму с помощью НС\n",
        "\n",
        "while True:\n",
        "    a, b = float(input(\"Enter a: \")), float(input(\"Enter b: \"))\n",
        "    sum_predict = model.predict(np.array([[a, b]]))[0, 0]\n",
        "    sum_true = a + b\n",
        "    print(f\"Model prediction: {a}+{b}={sum_predict}; \"\n",
        "          f\"true value: {sum_true}, \"\n",
        "          f\"mape: {mean_absolute_percentage_error([sum_true], [sum_predict])}\")\n"
      ],
      "metadata": {
        "colab": {
          "base_uri": "https://localhost:8080/"
        },
        "id": "MYG0sXmGhx_l",
        "outputId": "0e79d9ac-b370-48f1-e507-69b53b94da15"
      },
      "execution_count": null,
      "outputs": [
        {
          "output_type": "stream",
          "name": "stdout",
          "text": [
            "Epoch 1/5\n",
            "9801/9801 [==============================] - 30s 3ms/step - loss: 1.2205 - mape: 1.2205\n",
            "Epoch 2/5\n",
            "9801/9801 [==============================] - 19s 2ms/step - loss: 0.4195 - mape: 0.4195\n",
            "Epoch 3/5\n",
            "9801/9801 [==============================] - 18s 2ms/step - loss: 0.3613 - mape: 0.3613\n",
            "Epoch 4/5\n",
            "9801/9801 [==============================] - 18s 2ms/step - loss: 0.3223 - mape: 0.3223\n",
            "Epoch 5/5\n",
            "9801/9801 [==============================] - 18s 2ms/step - loss: 0.2834 - mape: 0.2834\n",
            "20/20 [==============================] - 0s 4ms/step - loss: 0.8359 - mape: 0.8359\n",
            "Test mean absolute percentage error: 0.8359320163726807\n",
            "Enter a: 2\n",
            "Enter b: 3\n",
            "1/1 [==============================] - 0s 115ms/step\n",
            "Model prediction: 2.0+3.0=5.092466354370117; true value: 5.0, mape: 0.018493270874023436\n",
            "Enter a: 10\n",
            "Enter b: 3\n",
            "1/1 [==============================] - 0s 28ms/step\n",
            "Model prediction: 10.0+3.0=13.140830039978027; true value: 13.0, mape: 0.010833079998309795\n"
          ]
        }
      ]
    }
  ]
}